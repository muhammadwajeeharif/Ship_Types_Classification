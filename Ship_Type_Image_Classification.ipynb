{
  "cells": [
    {
      "cell_type": "code",
      "execution_count": null,
      "metadata": {
        "id": "LgIn3gxxBk5N"
      },
      "outputs": [],
      "source": [
        "# import libraries\n",
        "import numpy as np\n",
        "import pandas as pd\n",
        "import seaborn as sns\n",
        "from matplotlib import pyplot as plt\n",
        "import os\n",
        "from IPython.display import Image"
      ]
    },
    {
      "cell_type": "code",
      "source": [
        "from google.colab import drive\n",
        "drive.mount('/content/drive')"
      ],
      "metadata": {
        "id": "g_BLOGPsDkU_",
        "outputId": "031a5b5f-6b5d-4c64-a256-7908a029ee34",
        "colab": {
          "base_uri": "https://localhost:8080/"
        }
      },
      "execution_count": null,
      "outputs": [
        {
          "output_type": "stream",
          "name": "stdout",
          "text": [
            "Mounted at /content/drive\n"
          ]
        }
      ]
    },
    {
      "cell_type": "code",
      "source": [
        "data_csv = pd.read_csv(r\"/content/drive/MyDrive/Ship Classification/train/train.csv\")\n",
        "print('data shape: ', data_csv.shape)"
      ],
      "metadata": {
        "colab": {
          "base_uri": "https://localhost:8080/"
        },
        "id": "67FnGv_0OIub",
        "outputId": "a2e53ee8-fa99-4c49-9ab2-72574b1f4aad"
      },
      "execution_count": null,
      "outputs": [
        {
          "output_type": "stream",
          "name": "stdout",
          "text": [
            "data shape:  (6252, 2)\n"
          ]
        }
      ]
    },
    {
      "cell_type": "code",
      "execution_count": null,
      "metadata": {
        "id": "IuYgs95NBk5U",
        "outputId": "769ad3c5-5772-4e79-ea0a-3185d8e0e040",
        "colab": {
          "base_uri": "https://localhost:8080/",
          "height": 363
        }
      },
      "outputs": [
        {
          "output_type": "execute_result",
          "data": {
            "text/plain": [
              "            image  category     label\n",
              "520   2846124.jpg         2   Carrier\n",
              "5195  2851825.jpg         0     Cargo\n",
              "643   2687229.jpg         1  Military\n",
              "2345  2827211.jpg         0     Cargo\n",
              "1951  1468399.jpg         3    Cruise\n",
              "4611  2835468.jpg         0     Cargo\n",
              "3369  2843631.jpg         0     Cargo\n",
              "3051  2831383.jpg         0     Cargo\n",
              "993    843259.jpg         3    Cruise\n",
              "4447  2841573.jpg         0     Cargo"
            ],
            "text/html": [
              "\n",
              "  <div id=\"df-cc8a9940-68c9-4276-8e82-1e0598c8b58c\">\n",
              "    <div class=\"colab-df-container\">\n",
              "      <div>\n",
              "<style scoped>\n",
              "    .dataframe tbody tr th:only-of-type {\n",
              "        vertical-align: middle;\n",
              "    }\n",
              "\n",
              "    .dataframe tbody tr th {\n",
              "        vertical-align: top;\n",
              "    }\n",
              "\n",
              "    .dataframe thead th {\n",
              "        text-align: right;\n",
              "    }\n",
              "</style>\n",
              "<table border=\"1\" class=\"dataframe\">\n",
              "  <thead>\n",
              "    <tr style=\"text-align: right;\">\n",
              "      <th></th>\n",
              "      <th>image</th>\n",
              "      <th>category</th>\n",
              "      <th>label</th>\n",
              "    </tr>\n",
              "  </thead>\n",
              "  <tbody>\n",
              "    <tr>\n",
              "      <th>520</th>\n",
              "      <td>2846124.jpg</td>\n",
              "      <td>2</td>\n",
              "      <td>Carrier</td>\n",
              "    </tr>\n",
              "    <tr>\n",
              "      <th>5195</th>\n",
              "      <td>2851825.jpg</td>\n",
              "      <td>0</td>\n",
              "      <td>Cargo</td>\n",
              "    </tr>\n",
              "    <tr>\n",
              "      <th>643</th>\n",
              "      <td>2687229.jpg</td>\n",
              "      <td>1</td>\n",
              "      <td>Military</td>\n",
              "    </tr>\n",
              "    <tr>\n",
              "      <th>2345</th>\n",
              "      <td>2827211.jpg</td>\n",
              "      <td>0</td>\n",
              "      <td>Cargo</td>\n",
              "    </tr>\n",
              "    <tr>\n",
              "      <th>1951</th>\n",
              "      <td>1468399.jpg</td>\n",
              "      <td>3</td>\n",
              "      <td>Cruise</td>\n",
              "    </tr>\n",
              "    <tr>\n",
              "      <th>4611</th>\n",
              "      <td>2835468.jpg</td>\n",
              "      <td>0</td>\n",
              "      <td>Cargo</td>\n",
              "    </tr>\n",
              "    <tr>\n",
              "      <th>3369</th>\n",
              "      <td>2843631.jpg</td>\n",
              "      <td>0</td>\n",
              "      <td>Cargo</td>\n",
              "    </tr>\n",
              "    <tr>\n",
              "      <th>3051</th>\n",
              "      <td>2831383.jpg</td>\n",
              "      <td>0</td>\n",
              "      <td>Cargo</td>\n",
              "    </tr>\n",
              "    <tr>\n",
              "      <th>993</th>\n",
              "      <td>843259.jpg</td>\n",
              "      <td>3</td>\n",
              "      <td>Cruise</td>\n",
              "    </tr>\n",
              "    <tr>\n",
              "      <th>4447</th>\n",
              "      <td>2841573.jpg</td>\n",
              "      <td>0</td>\n",
              "      <td>Cargo</td>\n",
              "    </tr>\n",
              "  </tbody>\n",
              "</table>\n",
              "</div>\n",
              "      <button class=\"colab-df-convert\" onclick=\"convertToInteractive('df-cc8a9940-68c9-4276-8e82-1e0598c8b58c')\"\n",
              "              title=\"Convert this dataframe to an interactive table.\"\n",
              "              style=\"display:none;\">\n",
              "        \n",
              "  <svg xmlns=\"http://www.w3.org/2000/svg\" height=\"24px\"viewBox=\"0 0 24 24\"\n",
              "       width=\"24px\">\n",
              "    <path d=\"M0 0h24v24H0V0z\" fill=\"none\"/>\n",
              "    <path d=\"M18.56 5.44l.94 2.06.94-2.06 2.06-.94-2.06-.94-.94-2.06-.94 2.06-2.06.94zm-11 1L8.5 8.5l.94-2.06 2.06-.94-2.06-.94L8.5 2.5l-.94 2.06-2.06.94zm10 10l.94 2.06.94-2.06 2.06-.94-2.06-.94-.94-2.06-.94 2.06-2.06.94z\"/><path d=\"M17.41 7.96l-1.37-1.37c-.4-.4-.92-.59-1.43-.59-.52 0-1.04.2-1.43.59L10.3 9.45l-7.72 7.72c-.78.78-.78 2.05 0 2.83L4 21.41c.39.39.9.59 1.41.59.51 0 1.02-.2 1.41-.59l7.78-7.78 2.81-2.81c.8-.78.8-2.07 0-2.86zM5.41 20L4 18.59l7.72-7.72 1.47 1.35L5.41 20z\"/>\n",
              "  </svg>\n",
              "      </button>\n",
              "      \n",
              "  <style>\n",
              "    .colab-df-container {\n",
              "      display:flex;\n",
              "      flex-wrap:wrap;\n",
              "      gap: 12px;\n",
              "    }\n",
              "\n",
              "    .colab-df-convert {\n",
              "      background-color: #E8F0FE;\n",
              "      border: none;\n",
              "      border-radius: 50%;\n",
              "      cursor: pointer;\n",
              "      display: none;\n",
              "      fill: #1967D2;\n",
              "      height: 32px;\n",
              "      padding: 0 0 0 0;\n",
              "      width: 32px;\n",
              "    }\n",
              "\n",
              "    .colab-df-convert:hover {\n",
              "      background-color: #E2EBFA;\n",
              "      box-shadow: 0px 1px 2px rgba(60, 64, 67, 0.3), 0px 1px 3px 1px rgba(60, 64, 67, 0.15);\n",
              "      fill: #174EA6;\n",
              "    }\n",
              "\n",
              "    [theme=dark] .colab-df-convert {\n",
              "      background-color: #3B4455;\n",
              "      fill: #D2E3FC;\n",
              "    }\n",
              "\n",
              "    [theme=dark] .colab-df-convert:hover {\n",
              "      background-color: #434B5C;\n",
              "      box-shadow: 0px 1px 3px 1px rgba(0, 0, 0, 0.15);\n",
              "      filter: drop-shadow(0px 1px 2px rgba(0, 0, 0, 0.3));\n",
              "      fill: #FFFFFF;\n",
              "    }\n",
              "  </style>\n",
              "\n",
              "      <script>\n",
              "        const buttonEl =\n",
              "          document.querySelector('#df-cc8a9940-68c9-4276-8e82-1e0598c8b58c button.colab-df-convert');\n",
              "        buttonEl.style.display =\n",
              "          google.colab.kernel.accessAllowed ? 'block' : 'none';\n",
              "\n",
              "        async function convertToInteractive(key) {\n",
              "          const element = document.querySelector('#df-cc8a9940-68c9-4276-8e82-1e0598c8b58c');\n",
              "          const dataTable =\n",
              "            await google.colab.kernel.invokeFunction('convertToInteractive',\n",
              "                                                     [key], {});\n",
              "          if (!dataTable) return;\n",
              "\n",
              "          const docLinkHtml = 'Like what you see? Visit the ' +\n",
              "            '<a target=\"_blank\" href=https://colab.research.google.com/notebooks/data_table.ipynb>data table notebook</a>'\n",
              "            + ' to learn more about interactive tables.';\n",
              "          element.innerHTML = '';\n",
              "          dataTable['output_type'] = 'display_data';\n",
              "          await google.colab.output.renderOutput(dataTable, element);\n",
              "          const docLink = document.createElement('div');\n",
              "          docLink.innerHTML = docLinkHtml;\n",
              "          element.appendChild(docLink);\n",
              "        }\n",
              "      </script>\n",
              "    </div>\n",
              "  </div>\n",
              "  "
            ]
          },
          "metadata": {},
          "execution_count": 4
        }
      ],
      "source": [
        "categories = {0: 'Cargo' , 1: 'Military', 2: 'Carrier', 3: 'Cruise', 4: 'Tankers'}\n",
        "\n",
        "data_csv['category'] = data_csv['category'] - 1\n",
        "data_csv['label'] = data_csv['category'].map(categories)\n",
        "data_csv['label'] = pd.Categorical(data_csv['label'])\n",
        "data_csv.sample(10)"
      ]
    },
    {
      "cell_type": "code",
      "execution_count": null,
      "metadata": {
        "id": "Ui9Os-OTBk5W",
        "outputId": "ba78459f-2b55-49df-a22c-42a56a040af6",
        "colab": {
          "base_uri": "https://localhost:8080/",
          "height": 367
        }
      },
      "outputs": [
        {
          "output_type": "stream",
          "name": "stderr",
          "text": [
            "/usr/local/lib/python3.7/dist-packages/seaborn/_decorators.py:43: FutureWarning: Pass the following variable as a keyword arg: x. From version 0.12, the only valid positional argument will be `data`, and passing other arguments without an explicit keyword will result in an error or misinterpretation.\n",
            "  FutureWarning\n"
          ]
        },
        {
          "output_type": "execute_result",
          "data": {
            "text/plain": [
              "Text(0, 0.5, 'Counts of Observation')"
            ]
          },
          "metadata": {},
          "execution_count": 5
        },
        {
          "output_type": "display_data",
          "data": {
            "text/plain": [
              "<Figure size 432x288 with 1 Axes>"
            ],
            "image/png": "[encoded data removed]"
          },
          "metadata": {
            "needs_background": "light"
          }
        }
      ],
      "source": [
        "sns.countplot(data_csv['label'])\n",
        "plt.title('Ship Category Distribution')\n",
        "plt.xlabel('Categories')\n",
        "plt.ylabel('Counts of Observation')"
      ]
    },
    {
      "cell_type": "code",
      "source": [
        "import cv2\n",
        "\n",
        "path = r'/content/drive/MyDrive/Ship Classification/train/images'\n",
        "img_list = list(data_csv['image'])"
      ],
      "metadata": {
        "id": "O7FaIaJkOUzR"
      },
      "execution_count": null,
      "outputs": []
    },
    {
      "cell_type": "code",
      "execution_count": null,
      "metadata": {
        "id": "Sxy4e7YZBk5Y",
        "outputId": "5467de65-04fd-48bd-8bd5-ae86e206ad8d",
        "colab": {
          "base_uri": "https://localhost:8080/"
        }
      },
      "outputs": [
        {
          "output_type": "stream",
          "name": "stdout",
          "text": [
            "Shape of X:  (6252, 128, 128, 3)\n"
          ]
        }
      ],
      "source": [
        "data_img = []\n",
        "\n",
        "for each in img_list:\n",
        "    each_path = os.path.join(path,each)\n",
        "    each_img = cv2.imread(each_path)\n",
        "    each_img = cv2.cvtColor(each_img, cv2.COLOR_BGR2RGB)\n",
        "    each_img_resized = cv2.resize(each_img, (128,128))\n",
        "    data_img.append(each_img_resized)\n",
        "    \n",
        "X = np.array(data_img)\n",
        "print('Shape of X: ', X.shape)\n"
      ]
    },
    {
      "cell_type": "code",
      "execution_count": null,
      "metadata": {
        "id": "HJh31kvqBk5Z",
        "outputId": "3aadcc73-fb78-474e-d62e-9a76787ab302",
        "colab": {
          "base_uri": "https://localhost:8080/"
        }
      },
      "outputs": [
        {
          "output_type": "stream",
          "name": "stdout",
          "text": [
            "Shape of y:  (6252, 5)\n"
          ]
        }
      ],
      "source": [
        "from sklearn.preprocessing import OneHotEncoder\n",
        "\n",
        "y = OneHotEncoder(dtype='int8', sparse=False).fit_transform(data_csv['category'].values.reshape(-1,1))\n",
        "print('Shape of y: ', y.shape)"
      ]
    },
    {
      "cell_type": "code",
      "execution_count": null,
      "metadata": {
        "id": "z0kcOGezBk5a"
      },
      "outputs": [],
      "source": [
        "from sklearn.model_selection import train_test_split\n",
        "\n",
        "X_data, X_test, y_data, y_test = train_test_split(X,y, test_size=0.15, random_state=42)\n",
        "X_train, X_val, y_train, y_val = train_test_split(X_data, y_data, test_size = 0.2, random_state=42)"
      ]
    },
    {
      "cell_type": "code",
      "execution_count": null,
      "metadata": {
        "id": "unGlSlngBk5b"
      },
      "outputs": [],
      "source": [
        "from tensorflow.keras.preprocessing.image import ImageDataGenerator\n",
        "\n",
        "train_gen = ImageDataGenerator(horizontal_flip= True,\n",
        "                               rotation_range = 45,\n",
        "                               zoom_range=0.2,\n",
        "                               height_shift_range = 0.5,\n",
        "                               width_shift_range = 0.5\n",
        "                              )\n",
        "validation_gen = ImageDataGenerator(horizontal_flip= True,\n",
        "                               rotation_range = 45,\n",
        "                               zoom_range=0.2,\n",
        "                               height_shift_range = 0.5,\n",
        "                               width_shift_range = 0.5\n",
        "                              )\n",
        "\n",
        "train_gen.fit(X_train)\n",
        "validation_gen.fit(X_val)"
      ]
    },
    {
      "cell_type": "code",
      "execution_count": null,
      "metadata": {
        "scrolled": true,
        "id": "3R8HM20-Bk5e",
        "outputId": "9b40b14c-22c2-4531-e41b-3128bc3293d9",
        "colab": {
          "base_uri": "https://localhost:8080/"
        }
      },
      "outputs": [
        {
          "output_type": "stream",
          "name": "stdout",
          "text": [
            "Downloading data from https://storage.googleapis.com/tensorflow/keras-applications/xception/xception_weights_tf_dim_ordering_tf_kernels_notop.h5\n",
            "83689472/83683744 [==============================] - 1s 0us/step\n",
            "83697664/83683744 [==============================] - 1s 0us/step\n"
          ]
        },
        {
          "output_type": "stream",
          "name": "stderr",
          "text": [
            "/usr/local/lib/python3.7/dist-packages/keras/optimizer_v2/adam.py:105: UserWarning: The `lr` argument is deprecated, use `learning_rate` instead.\n",
            "  super(Adam, self).__init__(name, **kwargs)\n",
            "/usr/local/lib/python3.7/dist-packages/ipykernel_launcher.py:24: UserWarning: `Model.fit_generator` is deprecated and will be removed in a future version. Please use `Model.fit`, which supports generators.\n"
          ]
        },
        {
          "output_type": "stream",
          "name": "stdout",
          "text": [
            "Epoch 1/15\n",
            "42/42 [==============================] - 73s 1s/step - loss: 1.3206 - accuracy: 0.4623 - val_loss: 1.6375 - val_accuracy: 0.4139\n",
            "Epoch 2/15\n",
            "42/42 [==============================] - 53s 1s/step - loss: 0.7748 - accuracy: 0.7071 - val_loss: 1.0867 - val_accuracy: 0.6209\n",
            "Epoch 3/15\n",
            "42/42 [==============================] - 53s 1s/step - loss: 0.6015 - accuracy: 0.7687 - val_loss: 0.7141 - val_accuracy: 0.7413\n",
            "Epoch 4/15\n",
            "42/42 [==============================] - 53s 1s/step - loss: 0.5190 - accuracy: 0.7967 - val_loss: 0.6343 - val_accuracy: 0.7789\n",
            "Epoch 5/15\n",
            "42/42 [==============================] - 53s 1s/step - loss: 0.4547 - accuracy: 0.8246 - val_loss: 0.5357 - val_accuracy: 0.7949\n",
            "Epoch 6/15\n",
            "42/42 [==============================] - 53s 1s/step - loss: 0.4228 - accuracy: 0.8369 - val_loss: 0.4919 - val_accuracy: 0.8222\n",
            "Epoch 7/15\n",
            "42/42 [==============================] - 53s 1s/step - loss: 0.3881 - accuracy: 0.8535 - val_loss: 0.4754 - val_accuracy: 0.8194\n",
            "Epoch 8/15\n",
            "42/42 [==============================] - 54s 1s/step - loss: 0.3604 - accuracy: 0.8593 - val_loss: 0.4903 - val_accuracy: 0.8260\n",
            "Epoch 9/15\n",
            "42/42 [==============================] - 54s 1s/step - loss: 0.3360 - accuracy: 0.8786 - val_loss: 0.4601 - val_accuracy: 0.8354\n",
            "Epoch 10/15\n",
            "42/42 [==============================] - 54s 1s/step - loss: 0.3324 - accuracy: 0.8788 - val_loss: 0.3922 - val_accuracy: 0.8598\n",
            "Epoch 11/15\n",
            "42/42 [==============================] - 54s 1s/step - loss: 0.2954 - accuracy: 0.8900 - val_loss: 0.4285 - val_accuracy: 0.8382\n",
            "Epoch 12/15\n",
            "42/42 [==============================] - 54s 1s/step - loss: 0.2819 - accuracy: 0.8976 - val_loss: 0.4361 - val_accuracy: 0.8514\n",
            "Epoch 13/15\n",
            "42/42 [==============================] - 54s 1s/step - loss: 0.2787 - accuracy: 0.8952 - val_loss: 0.4390 - val_accuracy: 0.8579\n",
            "Epoch 14/15\n",
            "42/42 [==============================] - 54s 1s/step - loss: 0.2752 - accuracy: 0.8935 - val_loss: 0.4515 - val_accuracy: 0.8335\n",
            "Epoch 15/15\n",
            "42/42 [==============================] - 53s 1s/step - loss: 0.2544 - accuracy: 0.9056 - val_loss: 0.3763 - val_accuracy: 0.8711\n"
          ]
        }
      ],
      "source": [
        "from tensorflow.keras.models import Sequential, Model\n",
        "from tensorflow.keras.layers import Dense, Flatten, Conv2D, MaxPool2D, GlobalAveragePooling2D, Dropout\n",
        "from tensorflow.keras.applications.xception import Xception\n",
        "from tensorflow.keras.optimizers import Adam\n",
        "\n",
        "batch_size = 100\n",
        "epochs = 15\n",
        "\n",
        "base = Xception(include_top = False, weights='imagenet', input_shape=(128,128,3))\n",
        "x = base.output\n",
        "x = GlobalAveragePooling2D()(x)\n",
        "\n",
        "head = Dense(5, activation = 'softmax')(x)\n",
        "model = Model(inputs = base.input, outputs = head)\n",
        "\n",
        "model.compile(optimizer=Adam(lr=0.0001),\n",
        "              loss = 'categorical_crossentropy',\n",
        "              metrics=['accuracy']\n",
        "             )\n",
        "\n",
        "history = model.fit_generator(train_gen.flow(X_train, y_train, batch_size = batch_size),\n",
        "                              epochs = epochs,\n",
        "                              validation_data = validation_gen.flow(X_val, y_val, batch_size = batch_size),\n",
        "                              steps_per_epoch = X_train.shape[0] // batch_size\n",
        "                             )"
      ]
    },
    {
      "cell_type": "code",
      "execution_count": null,
      "metadata": {
        "id": "Z4F3R-phBk5g",
        "outputId": "a9e6d771-2c87-4e44-81c9-3e8123aca892",
        "colab": {
          "base_uri": "https://localhost:8080/",
          "height": 513
        }
      },
      "outputs": [
        {
          "output_type": "display_data",
          "data": {
            "text/plain": [
              "<Figure size 576x576 with 2 Axes>"
            ],
            "image/png": "[encoded data removed]"
          },
          "metadata": {
            "needs_background": "light"
          }
        }
      ],
      "source": [
        "from sklearn.metrics import classification_report, confusion_matrix\n",
        "\n",
        "y_pred = model.predict(X_test)\n",
        "\n",
        "y_pred_classes = np.argmax(y_pred, axis=1)\n",
        "\n",
        "y_test_classes = np.argmax(y_test, axis=1)\n",
        "\n",
        "confmx = confusion_matrix(y_test_classes, y_pred_classes)\n",
        "f, ax = plt.subplots(figsize = (8,8))\n",
        "sns.heatmap(confmx, annot=True, fmt = '.1f', ax=ax)\n",
        "plt.xlabel('Predicted Labels')\n",
        "plt.ylabel('True Labels')\n",
        "plt.title('Confusion Matrix')\n",
        "plt.show()"
      ]
    },
    {
      "cell_type": "code",
      "execution_count": null,
      "metadata": {
        "scrolled": true,
        "id": "VuWYxZs1Bk5i",
        "outputId": "3bf0c923-cf29-4611-8766-64667c971317",
        "colab": {
          "base_uri": "https://localhost:8080/"
        }
      },
      "outputs": [
        {
          "output_type": "stream",
          "name": "stdout",
          "text": [
            "              precision    recall  f1-score   support\n",
            "\n",
            "           0       0.83      0.91      0.87       306\n",
            "           1       0.94      0.95      0.95       172\n",
            "           2       1.00      0.96      0.98       140\n",
            "           3       0.99      0.91      0.95       127\n",
            "           4       0.85      0.79      0.82       193\n",
            "\n",
            "    accuracy                           0.90       938\n",
            "   macro avg       0.92      0.90      0.91       938\n",
            "weighted avg       0.90      0.90      0.90       938\n",
            "\n"
          ]
        }
      ],
      "source": [
        "print(classification_report(y_test_classes, y_pred_classes))"
      ]
    },
    {
      "cell_type": "code",
      "execution_count": null,
      "metadata": {
        "id": "lx7s-GgaBk5j"
      },
      "outputs": [],
      "source": [
        "model.save(\"Ship-shape.h5\")"
      ]
    },
    {
      "cell_type": "code",
      "execution_count": null,
      "metadata": {
        "id": "6Q7VxQDxBk5j",
        "outputId": "4295be67-eb64-4fef-d814-fc20184884f5",
        "colab": {
          "base_uri": "https://localhost:8080/"
        }
      },
      "outputs": [
        {
          "output_type": "stream",
          "name": "stdout",
          "text": [
            "Writing my_app.py\n"
          ]
        }
      ],
      "source": [
        "%%writefile my_app.py\n",
        "import streamlit as st\n",
        "import tensorflow as tf\n",
        "import numpy as np\n",
        "from PIL import Image, ImageOps\n",
        "st.title(\"Image Classification\")\n",
        "upload_file = st.sidebar.file_uploader(\"Upload ship images\", type = 'jpg')\n",
        "generate_pred = st.sidebar.button(\"predict\")\n",
        "model = tf.keras.models.load_model('Ship-shape.h5')\n",
        "def import_n_pred(image_data, model):\n",
        "    size = (128,128)\n",
        "    image = ImageOps.fit(image_data, size, Image.ANTIALIAS)\n",
        "    img = np.asarray(image)\n",
        "    reshape = img[np.newaxis,...]\n",
        "    pred = model.predict(reshape)\n",
        "    return pred\n",
        "if generate_pred:\n",
        "    image = Image.open(upload_file)\n",
        "    with st.beta_expander('image', expanded=True):\n",
        "        st.image(image, use_column_width=True)\n",
        "    pred = import_n_pred(image, model)\n",
        "    labels = ['Cargo ship' , 'Military ship', 'Carrier ship', 'Cruise', 'Tanker ship']\n",
        "    st.title(\"prediction of image is {}\".format(labels[np.argmax(pred)]))"
      ]
    },
    {
      "cell_type": "code",
      "execution_count": null,
      "metadata": {
        "id": "ajpPxZHCBk5k",
        "colab": {
          "base_uri": "https://localhost:8080/",
          "height": 34
        },
        "outputId": "f7703b67-df67-4f24-fa04-15da7d834e16"
      },
      "outputs": [
        {
          "output_type": "display_data",
          "data": {
            "text/plain": [
              "<IPython.core.display.Javascript object>"
            ],
            "application/javascript": [
              "\n",
              "    async function download(id, filename, size) {\n",
              "      if (!google.colab.kernel.accessAllowed) {\n",
              "        return;\n",
              "      }\n",
              "      const div = document.createElement('div');\n",
              "      const label = document.createElement('label');\n",
              "      label.textContent = `Downloading \"${filename}\": `;\n",
              "      div.appendChild(label);\n",
              "      const progress = document.createElement('progress');\n",
              "      progress.max = size;\n",
              "      div.appendChild(progress);\n",
              "      document.body.appendChild(div);\n",
              "\n",
              "      const buffers = [];\n",
              "      let downloaded = 0;\n",
              "\n",
              "      const channel = await google.colab.kernel.comms.open(id);\n",
              "      // Send a message to notify the kernel that we're ready.\n",
              "      channel.send({})\n",
              "\n",
              "      for await (const message of channel.messages) {\n",
              "        // Send a message to notify the kernel that we're ready.\n",
              "        channel.send({})\n",
              "        if (message.buffers) {\n",
              "          for (const buffer of message.buffers) {\n",
              "            buffers.push(buffer);\n",
              "            downloaded += buffer.byteLength;\n",
              "            progress.value = downloaded;\n",
              "          }\n",
              "        }\n",
              "      }\n",
              "      const blob = new Blob(buffers, {type: 'application/binary'});\n",
              "      const a = document.createElement('a');\n",
              "      a.href = window.URL.createObjectURL(blob);\n",
              "      a.download = filename;\n",
              "      div.appendChild(a);\n",
              "      a.click();\n",
              "      div.remove();\n",
              "    }\n",
              "  "
            ]
          },
          "metadata": {}
        },
        {
          "output_type": "display_data",
          "data": {
            "text/plain": [
              "<IPython.core.display.Javascript object>"
            ],
            "application/javascript": [
              "download(\"download_df25f8f5-ed96-476e-91bf-4c531216422b\", \"Ship-shape.h5\", 250798512)"
            ]
          },
          "metadata": {}
        }
      ],
      "source": [
        "from google.colab import files\n",
        "files.download('/content/Ship-shape.h5')"
      ]
    },
    {
      "cell_type": "code",
      "source": [
        ""
      ],
      "metadata": {
        "id": "KqZphB2snnfZ"
      },
      "execution_count": null,
      "outputs": []
    }
  ],
  "metadata": {
    "kernelspec": {
      "display_name": "Python 3",
      "language": "python",
      "name": "python3"
    },
    "language_info": {
      "codemirror_mode": {
        "name": "ipython",
        "version": 3
      },
      "file_extension": ".py",
      "mimetype": "text/x-python",
      "name": "python",
      "nbconvert_exporter": "python",
      "pygments_lexer": "ipython3",
      "version": "3.8.13"
    },
    "colab": {
      "name": "Ship_Type_Image_Classification.ipynb",
      "provenance": [],
      "collapsed_sections": []
    },
    "accelerator": "GPU"
  },
  "nbformat": 4,
  "nbformat_minor": 0
}